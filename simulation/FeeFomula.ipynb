{
 "cells": [
  {
   "cell_type": "code",
   "execution_count": 1,
   "metadata": {},
   "outputs": [],
   "source": [
    "import numpy as np\n",
    "\n",
    "import pandas\n",
    "import matplotlib.pyplot as plt"
   ]
  },
  {
   "cell_type": "code",
   "execution_count": 5,
   "metadata": {},
   "outputs": [
    {
     "data": {
      "text/html": [
       "<div>\n",
       "<style scoped>\n",
       "    .dataframe tbody tr th:only-of-type {\n",
       "        vertical-align: middle;\n",
       "    }\n",
       "\n",
       "    .dataframe tbody tr th {\n",
       "        vertical-align: top;\n",
       "    }\n",
       "\n",
       "    .dataframe thead th {\n",
       "        text-align: right;\n",
       "    }\n",
       "</style>\n",
       "<table border=\"1\" class=\"dataframe\">\n",
       "  <thead>\n",
       "    <tr style=\"text-align: right;\">\n",
       "      <th></th>\n",
       "      <th>rFactor</th>\n",
       "      <th>fee</th>\n",
       "    </tr>\n",
       "  </thead>\n",
       "  <tbody>\n",
       "    <tr>\n",
       "      <th>0</th>\n",
       "      <td>0</td>\n",
       "      <td>1503833623506882</td>\n",
       "    </tr>\n",
       "    <tr>\n",
       "      <th>1</th>\n",
       "      <td>1000000000000000</td>\n",
       "      <td>1503833966228991</td>\n",
       "    </tr>\n",
       "    <tr>\n",
       "      <th>2</th>\n",
       "      <td>2000000000000000</td>\n",
       "      <td>1503834310184179</td>\n",
       "    </tr>\n",
       "    <tr>\n",
       "      <th>3</th>\n",
       "      <td>3000000000000000</td>\n",
       "      <td>1503834655378370</td>\n",
       "    </tr>\n",
       "    <tr>\n",
       "      <th>4</th>\n",
       "      <td>4000000000000000</td>\n",
       "      <td>1503835001817519</td>\n",
       "    </tr>\n",
       "    <tr>\n",
       "      <th>...</th>\n",
       "      <td>...</td>\n",
       "      <td>...</td>\n",
       "    </tr>\n",
       "    <tr>\n",
       "      <th>1995</th>\n",
       "      <td>1995000000000000000</td>\n",
       "      <td>6000000000000000</td>\n",
       "    </tr>\n",
       "    <tr>\n",
       "      <th>1996</th>\n",
       "      <td>1996000000000000000</td>\n",
       "      <td>6000000000000000</td>\n",
       "    </tr>\n",
       "    <tr>\n",
       "      <th>1997</th>\n",
       "      <td>1997000000000000000</td>\n",
       "      <td>6000000000000000</td>\n",
       "    </tr>\n",
       "    <tr>\n",
       "      <th>1998</th>\n",
       "      <td>1998000000000000000</td>\n",
       "      <td>6000000000000000</td>\n",
       "    </tr>\n",
       "    <tr>\n",
       "      <th>1999</th>\n",
       "      <td>1999000000000000000</td>\n",
       "      <td>6000000000000000</td>\n",
       "    </tr>\n",
       "  </tbody>\n",
       "</table>\n",
       "<p>2000 rows × 2 columns</p>\n",
       "</div>"
      ],
      "text/plain": [
       "                  rFactor               fee\n",
       "0                       0  1503833623506882\n",
       "1        1000000000000000  1503833966228991\n",
       "2        2000000000000000  1503834310184179\n",
       "3        3000000000000000  1503834655378370\n",
       "4        4000000000000000  1503835001817519\n",
       "...                   ...               ...\n",
       "1995  1995000000000000000  6000000000000000\n",
       "1996  1996000000000000000  6000000000000000\n",
       "1997  1997000000000000000  6000000000000000\n",
       "1998  1998000000000000000  6000000000000000\n",
       "1999  1999000000000000000  6000000000000000\n",
       "\n",
       "[2000 rows x 2 columns]"
      ]
     },
     "execution_count": 5,
     "metadata": {},
     "output_type": "execute_result"
    }
   ],
   "source": [
    "df = pandas.read_csv('fee.txt', sep='\\t')\n",
    "df"
   ]
  },
  {
   "cell_type": "code",
   "execution_count": 6,
   "metadata": {},
   "outputs": [
    {
     "data": {
      "image/png": "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\n",
      "text/plain": [
       "<Figure size 432x288 with 1 Axes>"
      ]
     },
     "metadata": {
      "needs_background": "light"
     },
     "output_type": "display_data"
    }
   ],
   "source": [
    "fig = plt.figure()\n",
    "ax1 = fig.add_subplot(111)\n",
    "\n",
    "ax1.plot(df['rFactor'] / (10 ** 18 ), (df['fee'] / (10 ** 16) - 0.3))\n",
    "ax1.grid(True)\n",
    "ax1.set_ylim(-0.2, 0.4)\n",
    "ax1.set_xlim(0, 2)\n",
    "\n",
    "plt.show()"
   ]
<<<<<<< HEAD
  },
  {
   "cell_type": "code",
   "execution_count": 3,
   "metadata": {},
   "outputs": [
    {
     "ename": "ValueError",
     "evalue": "Unable to parse string \"fee\" at position 16374",
     "output_type": "error",
     "traceback": [
      "\u001b[0;31m---------------------------------------------------------------------------\u001b[0m",
      "\u001b[0;31mValueError\u001b[0m                                Traceback (most recent call last)",
      "\u001b[0;32mpandas/_libs/lib.pyx\u001b[0m in \u001b[0;36mpandas._libs.lib.maybe_convert_numeric\u001b[0;34m()\u001b[0m\n",
      "\u001b[0;31mValueError\u001b[0m: Unable to parse string \"fee\"",
      "\nDuring handling of the above exception, another exception occurred:\n",
      "\u001b[0;31mValueError\u001b[0m                                Traceback (most recent call last)",
      "\u001b[0;32m<ipython-input-3-7a1529c12445>\u001b[0m in \u001b[0;36m<module>\u001b[0;34m\u001b[0m\n\u001b[0;32m----> 1\u001b[0;31m \u001b[0mpandas\u001b[0m\u001b[0;34m.\u001b[0m\u001b[0mto_numeric\u001b[0m\u001b[0;34m(\u001b[0m\u001b[0mdf\u001b[0m\u001b[0;34m[\u001b[0m\u001b[0;34m'fee'\u001b[0m\u001b[0;34m]\u001b[0m\u001b[0;34m)\u001b[0m\u001b[0;34m\u001b[0m\u001b[0;34m\u001b[0m\u001b[0m\n\u001b[0m",
      "\u001b[0;32m~/anaconda3/lib/python3.8/site-packages/pandas/core/tools/numeric.py\u001b[0m in \u001b[0;36mto_numeric\u001b[0;34m(arg, errors, downcast)\u001b[0m\n\u001b[1;32m    147\u001b[0m         \u001b[0mcoerce_numeric\u001b[0m \u001b[0;34m=\u001b[0m \u001b[0merrors\u001b[0m \u001b[0;32mnot\u001b[0m \u001b[0;32min\u001b[0m \u001b[0;34m(\u001b[0m\u001b[0;34m\"ignore\"\u001b[0m\u001b[0;34m,\u001b[0m \u001b[0;34m\"raise\"\u001b[0m\u001b[0;34m)\u001b[0m\u001b[0;34m\u001b[0m\u001b[0;34m\u001b[0m\u001b[0m\n\u001b[1;32m    148\u001b[0m         \u001b[0;32mtry\u001b[0m\u001b[0;34m:\u001b[0m\u001b[0;34m\u001b[0m\u001b[0;34m\u001b[0m\u001b[0m\n\u001b[0;32m--> 149\u001b[0;31m             values = lib.maybe_convert_numeric(\n\u001b[0m\u001b[1;32m    150\u001b[0m                 \u001b[0mvalues\u001b[0m\u001b[0;34m,\u001b[0m \u001b[0mset\u001b[0m\u001b[0;34m(\u001b[0m\u001b[0;34m)\u001b[0m\u001b[0;34m,\u001b[0m \u001b[0mcoerce_numeric\u001b[0m\u001b[0;34m=\u001b[0m\u001b[0mcoerce_numeric\u001b[0m\u001b[0;34m\u001b[0m\u001b[0;34m\u001b[0m\u001b[0m\n\u001b[1;32m    151\u001b[0m             )\n",
      "\u001b[0;32mpandas/_libs/lib.pyx\u001b[0m in \u001b[0;36mpandas._libs.lib.maybe_convert_numeric\u001b[0;34m()\u001b[0m\n",
      "\u001b[0;31mValueError\u001b[0m: Unable to parse string \"fee\" at position 16374"
     ]
    }
   ],
   "source": [
    "pandas.to_numeric(df['fee'])"
   ]
=======
>>>>>>> fix fee fomula and add simulation run
  }
 ],
 "metadata": {
  "kernelspec": {
   "display_name": "Python 3",
   "language": "python",
   "name": "python3"
  },
  "language_info": {
   "codemirror_mode": {
    "name": "ipython",
    "version": 3
   },
   "file_extension": ".py",
   "mimetype": "text/x-python",
   "name": "python",
   "nbconvert_exporter": "python",
   "pygments_lexer": "ipython3",
   "version": "3.8.3"
  }
 },
 "nbformat": 4,
 "nbformat_minor": 4
}
